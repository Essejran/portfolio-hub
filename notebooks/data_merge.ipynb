import pandas as pd

# Load CSVs from local repo folders (or clone repos and adjust paths)
rfm = pd.read_csv('../rfm/data/rfm_scores.csv')
churn = pd.read_csv('../churn-prediction/data/churn_predictions.csv')

# Inner join on customer_id to get only customers present in both
merged = pd.merge(rfm, churn, on='customer_id', how='inner')

print(f"Total customers in merged dataset: {merged.shape[0]}")
print(merged.head())

# Export merged dataset for dashboarding
merged.to_csv('data/master_customer_dataset.csv', index=False)
